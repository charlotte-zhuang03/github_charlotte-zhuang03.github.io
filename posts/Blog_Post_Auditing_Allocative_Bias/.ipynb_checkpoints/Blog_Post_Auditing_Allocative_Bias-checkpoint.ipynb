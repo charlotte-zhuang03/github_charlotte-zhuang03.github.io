{
 "cells": [
  {
   "cell_type": "markdown",
   "id": "1e1ea611-9fba-4805-aa14-1e4f3f1eaf77",
   "metadata": {},
   "source": [
    "---\n",
    "title: \"Blog Post: Auditing Allocative Bias\"\n",
    "formet:\n",
    "  html:\n",
    "    code-fold: false\n",
    "jupyter: python3\n",
    "---"
   ]
  },
  {
   "cell_type": "markdown",
   "id": "90d9b508-6b7e-4828-a3ef-6dc88ccbcacc",
   "metadata": {},
   "source": [
    "### Problem Choosing"
   ]
  },
  {
   "cell_type": "markdown",
   "id": "838e2d44-165e-4961-85d2-703b2f0a197a",
   "metadata": {},
   "source": [
    "The problem I choose is to predict employment status on the basis of demographics excluding race, and audit for racial bias. The state I choose to analyze is Texas.\n",
    "\n",
    "The machine learning model I choose is Logistic Regression model."
   ]
  },
  {
   "cell_type": "markdown",
   "id": "206a80dd-531c-4fc4-b00f-582be502b3c5",
   "metadata": {},
   "source": [
    "### Loading the data"
   ]
  },
  {
   "cell_type": "code",
   "execution_count": 1,
   "id": "145cf581-d535-4452-b371-bb55e651e3f3",
   "metadata": {},
   "outputs": [
    {
     "data": {
      "text/html": [
       "<div>\n",
       "<style scoped>\n",
       "    .dataframe tbody tr th:only-of-type {\n",
       "        vertical-align: middle;\n",
       "    }\n",
       "\n",
       "    .dataframe tbody tr th {\n",
       "        vertical-align: top;\n",
       "    }\n",
       "\n",
       "    .dataframe thead th {\n",
       "        text-align: right;\n",
       "    }\n",
       "</style>\n",
       "<table border=\"1\" class=\"dataframe\">\n",
       "  <thead>\n",
       "    <tr style=\"text-align: right;\">\n",
       "      <th></th>\n",
       "      <th>RT</th>\n",
       "      <th>SERIALNO</th>\n",
       "      <th>DIVISION</th>\n",
       "      <th>SPORDER</th>\n",
       "      <th>PUMA</th>\n",
       "      <th>REGION</th>\n",
       "      <th>ST</th>\n",
       "      <th>ADJINC</th>\n",
       "      <th>PWGTP</th>\n",
       "      <th>AGEP</th>\n",
       "      <th>...</th>\n",
       "      <th>PWGTP71</th>\n",
       "      <th>PWGTP72</th>\n",
       "      <th>PWGTP73</th>\n",
       "      <th>PWGTP74</th>\n",
       "      <th>PWGTP75</th>\n",
       "      <th>PWGTP76</th>\n",
       "      <th>PWGTP77</th>\n",
       "      <th>PWGTP78</th>\n",
       "      <th>PWGTP79</th>\n",
       "      <th>PWGTP80</th>\n",
       "    </tr>\n",
       "  </thead>\n",
       "  <tbody>\n",
       "    <tr>\n",
       "      <th>0</th>\n",
       "      <td>P</td>\n",
       "      <td>2018GQ0000026</td>\n",
       "      <td>7</td>\n",
       "      <td>1</td>\n",
       "      <td>5000</td>\n",
       "      <td>3</td>\n",
       "      <td>48</td>\n",
       "      <td>1013097</td>\n",
       "      <td>29</td>\n",
       "      <td>21</td>\n",
       "      <td>...</td>\n",
       "      <td>29</td>\n",
       "      <td>4</td>\n",
       "      <td>5</td>\n",
       "      <td>54</td>\n",
       "      <td>27</td>\n",
       "      <td>52</td>\n",
       "      <td>28</td>\n",
       "      <td>29</td>\n",
       "      <td>52</td>\n",
       "      <td>29</td>\n",
       "    </tr>\n",
       "    <tr>\n",
       "      <th>1</th>\n",
       "      <td>P</td>\n",
       "      <td>2018GQ0000057</td>\n",
       "      <td>7</td>\n",
       "      <td>1</td>\n",
       "      <td>6601</td>\n",
       "      <td>3</td>\n",
       "      <td>48</td>\n",
       "      <td>1013097</td>\n",
       "      <td>16</td>\n",
       "      <td>19</td>\n",
       "      <td>...</td>\n",
       "      <td>33</td>\n",
       "      <td>3</td>\n",
       "      <td>18</td>\n",
       "      <td>16</td>\n",
       "      <td>32</td>\n",
       "      <td>3</td>\n",
       "      <td>18</td>\n",
       "      <td>16</td>\n",
       "      <td>2</td>\n",
       "      <td>2</td>\n",
       "    </tr>\n",
       "    <tr>\n",
       "      <th>2</th>\n",
       "      <td>P</td>\n",
       "      <td>2018GQ0000070</td>\n",
       "      <td>7</td>\n",
       "      <td>1</td>\n",
       "      <td>4302</td>\n",
       "      <td>3</td>\n",
       "      <td>48</td>\n",
       "      <td>1013097</td>\n",
       "      <td>64</td>\n",
       "      <td>24</td>\n",
       "      <td>...</td>\n",
       "      <td>14</td>\n",
       "      <td>64</td>\n",
       "      <td>110</td>\n",
       "      <td>62</td>\n",
       "      <td>14</td>\n",
       "      <td>15</td>\n",
       "      <td>64</td>\n",
       "      <td>64</td>\n",
       "      <td>13</td>\n",
       "      <td>67</td>\n",
       "    </tr>\n",
       "    <tr>\n",
       "      <th>3</th>\n",
       "      <td>P</td>\n",
       "      <td>2018GQ0000079</td>\n",
       "      <td>7</td>\n",
       "      <td>1</td>\n",
       "      <td>700</td>\n",
       "      <td>3</td>\n",
       "      <td>48</td>\n",
       "      <td>1013097</td>\n",
       "      <td>260</td>\n",
       "      <td>20</td>\n",
       "      <td>...</td>\n",
       "      <td>57</td>\n",
       "      <td>451</td>\n",
       "      <td>261</td>\n",
       "      <td>272</td>\n",
       "      <td>59</td>\n",
       "      <td>477</td>\n",
       "      <td>261</td>\n",
       "      <td>258</td>\n",
       "      <td>480</td>\n",
       "      <td>56</td>\n",
       "    </tr>\n",
       "    <tr>\n",
       "      <th>4</th>\n",
       "      <td>P</td>\n",
       "      <td>2018GQ0000082</td>\n",
       "      <td>7</td>\n",
       "      <td>1</td>\n",
       "      <td>900</td>\n",
       "      <td>3</td>\n",
       "      <td>48</td>\n",
       "      <td>1013097</td>\n",
       "      <td>12</td>\n",
       "      <td>31</td>\n",
       "      <td>...</td>\n",
       "      <td>10</td>\n",
       "      <td>3</td>\n",
       "      <td>11</td>\n",
       "      <td>22</td>\n",
       "      <td>12</td>\n",
       "      <td>20</td>\n",
       "      <td>1</td>\n",
       "      <td>12</td>\n",
       "      <td>21</td>\n",
       "      <td>1</td>\n",
       "    </tr>\n",
       "  </tbody>\n",
       "</table>\n",
       "<p>5 rows × 286 columns</p>\n",
       "</div>"
      ],
      "text/plain": [
       "  RT       SERIALNO  DIVISION  SPORDER  PUMA  REGION  ST   ADJINC  PWGTP  \\\n",
       "0  P  2018GQ0000026         7        1  5000       3  48  1013097     29   \n",
       "1  P  2018GQ0000057         7        1  6601       3  48  1013097     16   \n",
       "2  P  2018GQ0000070         7        1  4302       3  48  1013097     64   \n",
       "3  P  2018GQ0000079         7        1   700       3  48  1013097    260   \n",
       "4  P  2018GQ0000082         7        1   900       3  48  1013097     12   \n",
       "\n",
       "   AGEP  ...  PWGTP71  PWGTP72  PWGTP73  PWGTP74  PWGTP75  PWGTP76  PWGTP77  \\\n",
       "0    21  ...       29        4        5       54       27       52       28   \n",
       "1    19  ...       33        3       18       16       32        3       18   \n",
       "2    24  ...       14       64      110       62       14       15       64   \n",
       "3    20  ...       57      451      261      272       59      477      261   \n",
       "4    31  ...       10        3       11       22       12       20        1   \n",
       "\n",
       "   PWGTP78  PWGTP79  PWGTP80  \n",
       "0       29       52       29  \n",
       "1       16        2        2  \n",
       "2       64       13       67  \n",
       "3      258      480       56  \n",
       "4       12       21        1  \n",
       "\n",
       "[5 rows x 286 columns]"
      ]
     },
     "execution_count": 1,
     "metadata": {},
     "output_type": "execute_result"
    }
   ],
   "source": [
    "from folktables import ACSDataSource, ACSEmployment, BasicProblem, adult_filter\n",
    "import numpy as np\n",
    "\n",
    "STATE = \"TX\" # pick Texas as the state\n",
    "\n",
    "data_source = ACSDataSource(survey_year='2018', \n",
    "                            horizon='1-Year', \n",
    "                            survey='person')\n",
    "\n",
    "acs_data = data_source.get_data(states=[STATE], download=True)\n",
    "\n",
    "acs_data.head()"
   ]
  },
  {
   "cell_type": "markdown",
   "id": "19c3a78a-ac8f-4b48-a1a9-1fc58f68ffea",
   "metadata": {},
   "source": [
    "Keep possible feature that may be used for analysis"
   ]
  },
  {
   "cell_type": "code",
   "execution_count": 2,
   "id": "16dfa24f-6c45-4fb1-a91a-c03b672fd990",
   "metadata": {},
   "outputs": [
    {
     "data": {
      "text/html": [
       "<div>\n",
       "<style scoped>\n",
       "    .dataframe tbody tr th:only-of-type {\n",
       "        vertical-align: middle;\n",
       "    }\n",
       "\n",
       "    .dataframe tbody tr th {\n",
       "        vertical-align: top;\n",
       "    }\n",
       "\n",
       "    .dataframe thead th {\n",
       "        text-align: right;\n",
       "    }\n",
       "</style>\n",
       "<table border=\"1\" class=\"dataframe\">\n",
       "  <thead>\n",
       "    <tr style=\"text-align: right;\">\n",
       "      <th></th>\n",
       "      <th>AGEP</th>\n",
       "      <th>SCHL</th>\n",
       "      <th>MAR</th>\n",
       "      <th>RELP</th>\n",
       "      <th>DIS</th>\n",
       "      <th>ESP</th>\n",
       "      <th>CIT</th>\n",
       "      <th>MIG</th>\n",
       "      <th>MIL</th>\n",
       "      <th>ANC</th>\n",
       "      <th>NATIVITY</th>\n",
       "      <th>DEAR</th>\n",
       "      <th>DEYE</th>\n",
       "      <th>DREM</th>\n",
       "      <th>SEX</th>\n",
       "      <th>RAC1P</th>\n",
       "      <th>ESR</th>\n",
       "    </tr>\n",
       "  </thead>\n",
       "  <tbody>\n",
       "    <tr>\n",
       "      <th>0</th>\n",
       "      <td>21</td>\n",
       "      <td>16.0</td>\n",
       "      <td>5</td>\n",
       "      <td>17</td>\n",
       "      <td>2</td>\n",
       "      <td>NaN</td>\n",
       "      <td>1</td>\n",
       "      <td>1.0</td>\n",
       "      <td>4.0</td>\n",
       "      <td>1</td>\n",
       "      <td>1</td>\n",
       "      <td>2</td>\n",
       "      <td>2</td>\n",
       "      <td>2.0</td>\n",
       "      <td>2</td>\n",
       "      <td>2</td>\n",
       "      <td>1.0</td>\n",
       "    </tr>\n",
       "    <tr>\n",
       "      <th>1</th>\n",
       "      <td>19</td>\n",
       "      <td>16.0</td>\n",
       "      <td>5</td>\n",
       "      <td>17</td>\n",
       "      <td>2</td>\n",
       "      <td>NaN</td>\n",
       "      <td>1</td>\n",
       "      <td>1.0</td>\n",
       "      <td>4.0</td>\n",
       "      <td>1</td>\n",
       "      <td>1</td>\n",
       "      <td>2</td>\n",
       "      <td>2</td>\n",
       "      <td>2.0</td>\n",
       "      <td>2</td>\n",
       "      <td>1</td>\n",
       "      <td>6.0</td>\n",
       "    </tr>\n",
       "    <tr>\n",
       "      <th>2</th>\n",
       "      <td>24</td>\n",
       "      <td>12.0</td>\n",
       "      <td>5</td>\n",
       "      <td>16</td>\n",
       "      <td>1</td>\n",
       "      <td>NaN</td>\n",
       "      <td>1</td>\n",
       "      <td>1.0</td>\n",
       "      <td>4.0</td>\n",
       "      <td>1</td>\n",
       "      <td>1</td>\n",
       "      <td>2</td>\n",
       "      <td>2</td>\n",
       "      <td>1.0</td>\n",
       "      <td>1</td>\n",
       "      <td>2</td>\n",
       "      <td>6.0</td>\n",
       "    </tr>\n",
       "    <tr>\n",
       "      <th>3</th>\n",
       "      <td>20</td>\n",
       "      <td>16.0</td>\n",
       "      <td>5</td>\n",
       "      <td>17</td>\n",
       "      <td>2</td>\n",
       "      <td>NaN</td>\n",
       "      <td>1</td>\n",
       "      <td>1.0</td>\n",
       "      <td>3.0</td>\n",
       "      <td>1</td>\n",
       "      <td>1</td>\n",
       "      <td>2</td>\n",
       "      <td>2</td>\n",
       "      <td>2.0</td>\n",
       "      <td>2</td>\n",
       "      <td>1</td>\n",
       "      <td>1.0</td>\n",
       "    </tr>\n",
       "    <tr>\n",
       "      <th>4</th>\n",
       "      <td>31</td>\n",
       "      <td>17.0</td>\n",
       "      <td>5</td>\n",
       "      <td>17</td>\n",
       "      <td>2</td>\n",
       "      <td>NaN</td>\n",
       "      <td>1</td>\n",
       "      <td>3.0</td>\n",
       "      <td>4.0</td>\n",
       "      <td>4</td>\n",
       "      <td>1</td>\n",
       "      <td>2</td>\n",
       "      <td>2</td>\n",
       "      <td>2.0</td>\n",
       "      <td>1</td>\n",
       "      <td>1</td>\n",
       "      <td>1.0</td>\n",
       "    </tr>\n",
       "  </tbody>\n",
       "</table>\n",
       "</div>"
      ],
      "text/plain": [
       "   AGEP  SCHL  MAR  RELP  DIS  ESP  CIT  MIG  MIL  ANC  NATIVITY  DEAR  DEYE  \\\n",
       "0    21  16.0    5    17    2  NaN    1  1.0  4.0    1         1     2     2   \n",
       "1    19  16.0    5    17    2  NaN    1  1.0  4.0    1         1     2     2   \n",
       "2    24  12.0    5    16    1  NaN    1  1.0  4.0    1         1     2     2   \n",
       "3    20  16.0    5    17    2  NaN    1  1.0  3.0    1         1     2     2   \n",
       "4    31  17.0    5    17    2  NaN    1  3.0  4.0    4         1     2     2   \n",
       "\n",
       "   DREM  SEX  RAC1P  ESR  \n",
       "0   2.0    2      2  1.0  \n",
       "1   2.0    2      1  6.0  \n",
       "2   1.0    1      2  6.0  \n",
       "3   2.0    2      1  1.0  \n",
       "4   2.0    1      1  1.0  "
      ]
     },
     "execution_count": 2,
     "metadata": {},
     "output_type": "execute_result"
    }
   ],
   "source": [
    "possible_features=['AGEP', 'SCHL', 'MAR', 'RELP', 'DIS', 'ESP', 'CIT', 'MIG', 'MIL', 'ANC', 'NATIVITY', 'DEAR', 'DEYE', 'DREM', 'SEX', 'RAC1P', 'ESR']\n",
    "acs_data[possible_features].head()"
   ]
  },
  {
   "cell_type": "code",
   "execution_count": 3,
   "id": "9eeae23c-226b-4985-a1eb-7334a0aa2e7f",
   "metadata": {},
   "outputs": [],
   "source": [
    "features_to_use = [f for f in possible_features if f not in [\"ESR\", \"RAC1P\"]]"
   ]
  },
  {
   "cell_type": "code",
   "execution_count": 4,
   "id": "967875aa-f9dc-4eb1-a4f7-9217741ff537",
   "metadata": {},
   "outputs": [],
   "source": [
    "EmploymentProblem = BasicProblem(\n",
    "    features=features_to_use,\n",
    "    target='ESR',\n",
    "    target_transform=lambda x: x == 1,\n",
    "    group='RAC1P',\n",
    "    preprocess=lambda x: x,\n",
    "    postprocess=lambda x: np.nan_to_num(x, -1),\n",
    ")\n",
    "\n",
    "features, label, group = EmploymentProblem.df_to_numpy(acs_data)"
   ]
  },
  {
   "cell_type": "code",
   "execution_count": 5,
   "id": "76756379-20b4-409d-8b39-cac54c23960f",
   "metadata": {},
   "outputs": [],
   "source": [
    "from sklearn.model_selection import train_test_split\n",
    "X_train, X_test, y_train, y_test, group_train, group_test = train_test_split(\n",
    "    features, label, group, test_size=0.2, random_state=0)"
   ]
  },
  {
   "cell_type": "markdown",
   "id": "de62b498-1c6b-4bcd-8df5-3c7d30ff90a7",
   "metadata": {},
   "source": [
    "### Basic Descriptives"
   ]
  },
  {
   "cell_type": "code",
   "execution_count": 6,
   "id": "64896c1c-ab78-4246-8b5e-725a2d9b48a9",
   "metadata": {},
   "outputs": [],
   "source": [
    "import pandas as pd\n",
    "df = pd.DataFrame(X_train, columns = features_to_use)\n",
    "df[\"group\"] = group_train\n",
    "df[\"label\"] = y_train"
   ]
  },
  {
   "cell_type": "markdown",
   "id": "743d4b16-eb53-4594-91bf-f7a0b9938fca",
   "metadata": {},
   "source": [
    "##### Question 1: How many individuals are in the data?"
   ]
  },
  {
   "cell_type": "code",
   "execution_count": 7,
   "id": "616b7a77-fb4d-496b-84c3-6a8901309f0f",
   "metadata": {},
   "outputs": [
    {
     "data": {
      "text/plain": [
       "214480"
      ]
     },
     "execution_count": 7,
     "metadata": {},
     "output_type": "execute_result"
    }
   ],
   "source": [
    "total = len(df.index)\n",
    "total"
   ]
  },
  {
   "cell_type": "markdown",
   "id": "21a1d13a-5fc2-4379-a260-3f8ce3ea43a7",
   "metadata": {},
   "source": [
    "We can see that there are 214480 individuals in the data."
   ]
  },
  {
   "cell_type": "markdown",
   "id": "3faaf184-3fd6-4596-b740-3c5d216edefd",
   "metadata": {},
   "source": [
    "##### Question 2: Of these individuals, what proportion have target label equal to 1? In employment prediction, these would correspond to employed individuals."
   ]
  },
  {
   "cell_type": "code",
   "execution_count": 8,
   "id": "e1a3b713-f4cc-4cd4-890e-60d58a00355d",
   "metadata": {},
   "outputs": [
    {
     "data": {
      "text/plain": [
       "0.4513474449832152"
      ]
     },
     "execution_count": 8,
     "metadata": {},
     "output_type": "execute_result"
    }
   ],
   "source": [
    "total_1 = len(df[df['label'] == 1])\n",
    "proportion_1 = total_1 / total\n",
    "proportion_1"
   ]
  },
  {
   "cell_type": "markdown",
   "id": "8575633b-2250-4e2b-af78-988ec9f824ce",
   "metadata": {},
   "source": [
    "Of these individuals, approximately 45% of the individuals have target label equal to 1."
   ]
  },
  {
   "cell_type": "markdown",
   "id": "7302fe24-f4aa-462f-a5c1-22220721fa35",
   "metadata": {},
   "source": [
    "##### Question 3: Of these individuals, how many are in each of the groups?"
   ]
  },
  {
   "cell_type": "code",
   "execution_count": 9,
   "id": "4d8e92c5-688b-4654-bca2-9e87c80cf9d7",
   "metadata": {},
   "outputs": [
    {
     "name": "stdout",
     "output_type": "stream",
     "text": [
      "group\n",
      "1    75556\n",
      "2     8591\n",
      "3      361\n",
      "4        5\n",
      "5      185\n",
      "6     5064\n",
      "7       68\n",
      "8     4921\n",
      "9     2054\n",
      "Name: group, dtype: int64\n"
     ]
    }
   ],
   "source": [
    "target_1 = df[df['label'] == 1]\n",
    "target_1_groups = target_1.groupby(['group'])['group'].count()\n",
    "print(target_1_groups)"
   ]
  },
  {
   "cell_type": "markdown",
   "id": "212ceba1-d6fc-43af-9ed7-e9aa2e616b91",
   "metadata": {},
   "source": [
    "Number of people having target label equal to 1 is shown in the above table"
   ]
  },
  {
   "cell_type": "markdown",
   "id": "80850ee6-5e49-4f5d-8474-3bed24ff4cf2",
   "metadata": {},
   "source": [
    "##### Question 4: In each group, what proportion of individuals have target label equal to 1?"
   ]
  },
  {
   "cell_type": "code",
   "execution_count": 10,
   "id": "1126c4f6-121f-424c-8128-7c1e95de2b80",
   "metadata": {},
   "outputs": [
    {
     "name": "stdout",
     "output_type": "stream",
     "text": [
      "group\n",
      "1    0.455242\n",
      "2    0.416756\n",
      "3    0.431818\n",
      "4    0.357143\n",
      "5    0.461347\n",
      "6    0.499359\n",
      "7    0.430380\n",
      "8    0.466711\n",
      "9    0.353955\n",
      "Name: label, dtype: float64\n"
     ]
    }
   ],
   "source": [
    "target_groups_prop = df.groupby(['group'])['label'].mean()\n",
    "print(target_groups_prop)"
   ]
  },
  {
   "cell_type": "markdown",
   "id": "36cab83a-38b8-4a18-b14f-819de6ba7274",
   "metadata": {},
   "source": [
    "##### Question 5: Adding another label \"SEX\""
   ]
  },
  {
   "cell_type": "code",
   "execution_count": 11,
   "id": "5a9612f5-dd2d-4ea8-82b0-3653e845ecfa",
   "metadata": {},
   "outputs": [
    {
     "name": "stdout",
     "output_type": "stream",
     "text": [
      "group  SEX\n",
      "1      1.0    0.502327\n",
      "       2.0    0.410106\n",
      "2      1.0    0.396673\n",
      "       2.0    0.435596\n",
      "3      1.0    0.474178\n",
      "       2.0    0.387805\n",
      "4      1.0    0.250000\n",
      "       2.0    0.500000\n",
      "5      1.0    0.488263\n",
      "       2.0    0.430851\n",
      "6      1.0    0.553741\n",
      "       2.0    0.447318\n",
      "7      1.0    0.428571\n",
      "       2.0    0.432836\n",
      "8      1.0    0.529160\n",
      "       2.0    0.401550\n",
      "9      1.0    0.371400\n",
      "       2.0    0.335905\n",
      "Name: label, dtype: float64\n"
     ]
    }
   ],
   "source": [
    "target_groups_with_sex = df.groupby(['group', 'SEX'])['label'].mean()\n",
    "print(target_groups_with_sex)"
   ]
  },
  {
   "cell_type": "markdown",
   "id": "4056e7e7-d399-4da8-9681-58ffa6170cc2",
   "metadata": {},
   "source": [
    "Making Barplot:"
   ]
  },
  {
   "cell_type": "code",
   "execution_count": 12,
   "id": "c913d064-37db-456e-ab9f-f7bc00725226",
   "metadata": {},
   "outputs": [
    {
     "data": {
      "text/plain": [
       "<AxesSubplot: xlabel='group', ylabel='label'>"
      ]
     },
     "execution_count": 12,
     "metadata": {},
     "output_type": "execute_result"
    },
    {
     "data": {
      "image/png": "[encoded data removed]",
      "text/plain": [
       "<Figure size 640x480 with 1 Axes>"
      ]
     },
     "metadata": {},
     "output_type": "display_data"
    }
   ],
   "source": [
    "# make barplot\n",
    "import seaborn as sns\n",
    "\n",
    "result = target_groups_with_sex.to_frame().reset_index()\n",
    "sns.barplot(x='group', y = 'label', hue = 'SEX', data = result)"
   ]
  },
  {
   "cell_type": "markdown",
   "id": "d7659b89-d04e-4e6f-b4f2-401a2efd45b9",
   "metadata": {},
   "source": [
    "### Training the Model"
   ]
  },
  {
   "cell_type": "code",
   "execution_count": 13,
   "id": "f2788042-2c69-4e43-86e1-5221d57c4227",
   "metadata": {},
   "outputs": [
    {
     "data": {
      "text/html": [
       "<style>#sk-container-id-1 {color: black;background-color: white;}#sk-container-id-1 pre{padding: 0;}#sk-container-id-1 div.sk-toggleable {background-color: white;}#sk-container-id-1 label.sk-toggleable__label {cursor: pointer;display: block;width: 100%;margin-bottom: 0;padding: 0.3em;box-sizing: border-box;text-align: center;}#sk-container-id-1 label.sk-toggleable__label-arrow:before {content: \"▸\";float: left;margin-right: 0.25em;color: #696969;}#sk-container-id-1 label.sk-toggleable__label-arrow:hover:before {color: black;}#sk-container-id-1 div.sk-estimator:hover label.sk-toggleable__label-arrow:before {color: black;}#sk-container-id-1 div.sk-toggleable__content {max-height: 0;max-width: 0;overflow: hidden;text-align: left;background-color: #f0f8ff;}#sk-container-id-1 div.sk-toggleable__content pre {margin: 0.2em;color: black;border-radius: 0.25em;background-color: #f0f8ff;}#sk-container-id-1 input.sk-toggleable__control:checked~div.sk-toggleable__content {max-height: 200px;max-width: 100%;overflow: auto;}#sk-container-id-1 input.sk-toggleable__control:checked~label.sk-toggleable__label-arrow:before {content: \"▾\";}#sk-container-id-1 div.sk-estimator input.sk-toggleable__control:checked~label.sk-toggleable__label {background-color: #d4ebff;}#sk-container-id-1 div.sk-label input.sk-toggleable__control:checked~label.sk-toggleable__label {background-color: #d4ebff;}#sk-container-id-1 input.sk-hidden--visually {border: 0;clip: rect(1px 1px 1px 1px);clip: rect(1px, 1px, 1px, 1px);height: 1px;margin: -1px;overflow: hidden;padding: 0;position: absolute;width: 1px;}#sk-container-id-1 div.sk-estimator {font-family: monospace;background-color: #f0f8ff;border: 1px dotted black;border-radius: 0.25em;box-sizing: border-box;margin-bottom: 0.5em;}#sk-container-id-1 div.sk-estimator:hover {background-color: #d4ebff;}#sk-container-id-1 div.sk-parallel-item::after {content: \"\";width: 100%;border-bottom: 1px solid gray;flex-grow: 1;}#sk-container-id-1 div.sk-label:hover label.sk-toggleable__label {background-color: #d4ebff;}#sk-container-id-1 div.sk-serial::before {content: \"\";position: absolute;border-left: 1px solid gray;box-sizing: border-box;top: 0;bottom: 0;left: 50%;z-index: 0;}#sk-container-id-1 div.sk-serial {display: flex;flex-direction: column;align-items: center;background-color: white;padding-right: 0.2em;padding-left: 0.2em;position: relative;}#sk-container-id-1 div.sk-item {position: relative;z-index: 1;}#sk-container-id-1 div.sk-parallel {display: flex;align-items: stretch;justify-content: center;background-color: white;position: relative;}#sk-container-id-1 div.sk-item::before, #sk-container-id-1 div.sk-parallel-item::before {content: \"\";position: absolute;border-left: 1px solid gray;box-sizing: border-box;top: 0;bottom: 0;left: 50%;z-index: -1;}#sk-container-id-1 div.sk-parallel-item {display: flex;flex-direction: column;z-index: 1;position: relative;background-color: white;}#sk-container-id-1 div.sk-parallel-item:first-child::after {align-self: flex-end;width: 50%;}#sk-container-id-1 div.sk-parallel-item:last-child::after {align-self: flex-start;width: 50%;}#sk-container-id-1 div.sk-parallel-item:only-child::after {width: 0;}#sk-container-id-1 div.sk-dashed-wrapped {border: 1px dashed gray;margin: 0 0.4em 0.5em 0.4em;box-sizing: border-box;padding-bottom: 0.4em;background-color: white;}#sk-container-id-1 div.sk-label label {font-family: monospace;font-weight: bold;display: inline-block;line-height: 1.2em;}#sk-container-id-1 div.sk-label-container {text-align: center;}#sk-container-id-1 div.sk-container {/* jupyter's `normalize.less` sets `[hidden] { display: none; }` but bootstrap.min.css set `[hidden] { display: none !important; }` so we also need the `!important` here to be able to override the default hidden behavior on the sphinx rendered scikit-learn.org. See: https://github.com/scikit-learn/scikit-learn/issues/21755 */display: inline-block !important;position: relative;}#sk-container-id-1 div.sk-text-repr-fallback {display: none;}</style><div id=\"sk-container-id-1\" class=\"sk-top-container\"><div class=\"sk-text-repr-fallback\"><pre>Pipeline(steps=[(&#x27;standardscaler&#x27;, StandardScaler()),\n",
       "                (&#x27;logisticregression&#x27;, LogisticRegression())])</pre><b>In a Jupyter environment, please rerun this cell to show the HTML representation or trust the notebook. <br />On GitHub, the HTML representation is unable to render, please try loading this page with nbviewer.org.</b></div><div class=\"sk-container\" hidden><div class=\"sk-item sk-dashed-wrapped\"><div class=\"sk-label-container\"><div class=\"sk-label sk-toggleable\"><input class=\"sk-toggleable__control sk-hidden--visually\" id=\"sk-estimator-id-1\" type=\"checkbox\" ><label for=\"sk-estimator-id-1\" class=\"sk-toggleable__label sk-toggleable__label-arrow\">Pipeline</label><div class=\"sk-toggleable__content\"><pre>Pipeline(steps=[(&#x27;standardscaler&#x27;, StandardScaler()),\n",
       "                (&#x27;logisticregression&#x27;, LogisticRegression())])</pre></div></div></div><div class=\"sk-serial\"><div class=\"sk-item\"><div class=\"sk-estimator sk-toggleable\"><input class=\"sk-toggleable__control sk-hidden--visually\" id=\"sk-estimator-id-2\" type=\"checkbox\" ><label for=\"sk-estimator-id-2\" class=\"sk-toggleable__label sk-toggleable__label-arrow\">StandardScaler</label><div class=\"sk-toggleable__content\"><pre>StandardScaler()</pre></div></div></div><div class=\"sk-item\"><div class=\"sk-estimator sk-toggleable\"><input class=\"sk-toggleable__control sk-hidden--visually\" id=\"sk-estimator-id-3\" type=\"checkbox\" ><label for=\"sk-estimator-id-3\" class=\"sk-toggleable__label sk-toggleable__label-arrow\">LogisticRegression</label><div class=\"sk-toggleable__content\"><pre>LogisticRegression()</pre></div></div></div></div></div></div></div>"
      ],
      "text/plain": [
       "Pipeline(steps=[('standardscaler', StandardScaler()),\n",
       "                ('logisticregression', LogisticRegression())])"
      ]
     },
     "execution_count": 13,
     "metadata": {},
     "output_type": "execute_result"
    }
   ],
   "source": [
    "from sklearn.linear_model import LogisticRegression\n",
    "from sklearn.pipeline import make_pipeline\n",
    "from sklearn.preprocessing import StandardScaler\n",
    "from sklearn.metrics import confusion_matrix\n",
    "\n",
    "model = make_pipeline(StandardScaler(), LogisticRegression())\n",
    "model.fit(X_train, y_train)"
   ]
  },
  {
   "cell_type": "code",
   "execution_count": 14,
   "id": "b55f49c6-daa2-4dca-8ae2-b855a06240b9",
   "metadata": {},
   "outputs": [],
   "source": [
    "y_hat = model.predict(X_test)"
   ]
  },
  {
   "cell_type": "code",
   "execution_count": 15,
   "id": "9f5c47b0-2cb3-466a-8a53-7ef7cc75e358",
   "metadata": {},
   "outputs": [
    {
     "data": {
      "text/plain": [
       "0.7754569190600522"
      ]
     },
     "execution_count": 15,
     "metadata": {},
     "output_type": "execute_result"
    }
   ],
   "source": [
    "(y_hat == y_test).mean()"
   ]
  },
  {
   "cell_type": "markdown",
   "id": "3807fab1-f209-4645-bf00-97fa8125b2d1",
   "metadata": {},
   "source": [
    "### Auditing the Model"
   ]
  },
  {
   "cell_type": "markdown",
   "id": "766db745-f892-40f0-80c0-ed0793c38e2d",
   "metadata": {},
   "source": [
    "#### Overall Measures"
   ]
  },
  {
   "cell_type": "markdown",
   "id": "a98535a0-0405-4db3-b537-b34972aeed6e",
   "metadata": {},
   "source": [
    "##### What is the overall accuracy of your model?"
   ]
  },
  {
   "cell_type": "markdown",
   "id": "cb9a7485-0c91-4706-85fc-2b18dc1d851d",
   "metadata": {},
   "source": [
    "As the result of the training model section shows, the overall accuracy of my model is 0.7754569190600522."
   ]
  },
  {
   "cell_type": "markdown",
   "id": "5d824710-90ca-46d5-a516-273680ac8616",
   "metadata": {},
   "source": [
    "##### What is the positive predictive value (PPV) of your model?"
   ]
  },
  {
   "cell_type": "code",
   "execution_count": 16,
   "id": "bedd44b7-50a7-42bd-97a6-8ef0356b8c6d",
   "metadata": {},
   "outputs": [
    {
     "data": {
      "text/html": [
       "<div>\n",
       "<style scoped>\n",
       "    .dataframe tbody tr th:only-of-type {\n",
       "        vertical-align: middle;\n",
       "    }\n",
       "\n",
       "    .dataframe tbody tr th {\n",
       "        vertical-align: top;\n",
       "    }\n",
       "\n",
       "    .dataframe thead th {\n",
       "        text-align: right;\n",
       "    }\n",
       "</style>\n",
       "<table border=\"1\" class=\"dataframe\">\n",
       "  <thead>\n",
       "    <tr style=\"text-align: right;\">\n",
       "      <th></th>\n",
       "      <th>AGEP</th>\n",
       "      <th>SCHL</th>\n",
       "      <th>MAR</th>\n",
       "      <th>RELP</th>\n",
       "      <th>DIS</th>\n",
       "      <th>ESP</th>\n",
       "      <th>CIT</th>\n",
       "      <th>MIG</th>\n",
       "      <th>MIL</th>\n",
       "      <th>ANC</th>\n",
       "      <th>NATIVITY</th>\n",
       "      <th>DEAR</th>\n",
       "      <th>DEYE</th>\n",
       "      <th>DREM</th>\n",
       "      <th>SEX</th>\n",
       "      <th>group</th>\n",
       "      <th>label</th>\n",
       "      <th>predicted</th>\n",
       "      <th>match</th>\n",
       "    </tr>\n",
       "  </thead>\n",
       "  <tbody>\n",
       "    <tr>\n",
       "      <th>0</th>\n",
       "      <td>3.0</td>\n",
       "      <td>1.0</td>\n",
       "      <td>5.0</td>\n",
       "      <td>2.0</td>\n",
       "      <td>2.0</td>\n",
       "      <td>2.0</td>\n",
       "      <td>1.0</td>\n",
       "      <td>1.0</td>\n",
       "      <td>0.0</td>\n",
       "      <td>1.0</td>\n",
       "      <td>1.0</td>\n",
       "      <td>2.0</td>\n",
       "      <td>2.0</td>\n",
       "      <td>0.0</td>\n",
       "      <td>2.0</td>\n",
       "      <td>8</td>\n",
       "      <td>False</td>\n",
       "      <td>False</td>\n",
       "      <td>True</td>\n",
       "    </tr>\n",
       "    <tr>\n",
       "      <th>1</th>\n",
       "      <td>30.0</td>\n",
       "      <td>19.0</td>\n",
       "      <td>4.0</td>\n",
       "      <td>2.0</td>\n",
       "      <td>2.0</td>\n",
       "      <td>0.0</td>\n",
       "      <td>5.0</td>\n",
       "      <td>1.0</td>\n",
       "      <td>4.0</td>\n",
       "      <td>1.0</td>\n",
       "      <td>2.0</td>\n",
       "      <td>2.0</td>\n",
       "      <td>2.0</td>\n",
       "      <td>2.0</td>\n",
       "      <td>2.0</td>\n",
       "      <td>1</td>\n",
       "      <td>True</td>\n",
       "      <td>True</td>\n",
       "      <td>True</td>\n",
       "    </tr>\n",
       "    <tr>\n",
       "      <th>2</th>\n",
       "      <td>5.0</td>\n",
       "      <td>2.0</td>\n",
       "      <td>5.0</td>\n",
       "      <td>2.0</td>\n",
       "      <td>2.0</td>\n",
       "      <td>7.0</td>\n",
       "      <td>1.0</td>\n",
       "      <td>1.0</td>\n",
       "      <td>0.0</td>\n",
       "      <td>1.0</td>\n",
       "      <td>1.0</td>\n",
       "      <td>2.0</td>\n",
       "      <td>2.0</td>\n",
       "      <td>2.0</td>\n",
       "      <td>2.0</td>\n",
       "      <td>1</td>\n",
       "      <td>False</td>\n",
       "      <td>False</td>\n",
       "      <td>True</td>\n",
       "    </tr>\n",
       "    <tr>\n",
       "      <th>3</th>\n",
       "      <td>92.0</td>\n",
       "      <td>19.0</td>\n",
       "      <td>2.0</td>\n",
       "      <td>16.0</td>\n",
       "      <td>1.0</td>\n",
       "      <td>0.0</td>\n",
       "      <td>1.0</td>\n",
       "      <td>1.0</td>\n",
       "      <td>4.0</td>\n",
       "      <td>1.0</td>\n",
       "      <td>1.0</td>\n",
       "      <td>1.0</td>\n",
       "      <td>2.0</td>\n",
       "      <td>2.0</td>\n",
       "      <td>2.0</td>\n",
       "      <td>1</td>\n",
       "      <td>False</td>\n",
       "      <td>False</td>\n",
       "      <td>True</td>\n",
       "    </tr>\n",
       "    <tr>\n",
       "      <th>4</th>\n",
       "      <td>58.0</td>\n",
       "      <td>15.0</td>\n",
       "      <td>1.0</td>\n",
       "      <td>1.0</td>\n",
       "      <td>2.0</td>\n",
       "      <td>0.0</td>\n",
       "      <td>1.0</td>\n",
       "      <td>1.0</td>\n",
       "      <td>4.0</td>\n",
       "      <td>1.0</td>\n",
       "      <td>1.0</td>\n",
       "      <td>2.0</td>\n",
       "      <td>2.0</td>\n",
       "      <td>2.0</td>\n",
       "      <td>1.0</td>\n",
       "      <td>1</td>\n",
       "      <td>True</td>\n",
       "      <td>True</td>\n",
       "      <td>True</td>\n",
       "    </tr>\n",
       "    <tr>\n",
       "      <th>...</th>\n",
       "      <td>...</td>\n",
       "      <td>...</td>\n",
       "      <td>...</td>\n",
       "      <td>...</td>\n",
       "      <td>...</td>\n",
       "      <td>...</td>\n",
       "      <td>...</td>\n",
       "      <td>...</td>\n",
       "      <td>...</td>\n",
       "      <td>...</td>\n",
       "      <td>...</td>\n",
       "      <td>...</td>\n",
       "      <td>...</td>\n",
       "      <td>...</td>\n",
       "      <td>...</td>\n",
       "      <td>...</td>\n",
       "      <td>...</td>\n",
       "      <td>...</td>\n",
       "      <td>...</td>\n",
       "    </tr>\n",
       "    <tr>\n",
       "      <th>53615</th>\n",
       "      <td>38.0</td>\n",
       "      <td>22.0</td>\n",
       "      <td>1.0</td>\n",
       "      <td>0.0</td>\n",
       "      <td>2.0</td>\n",
       "      <td>0.0</td>\n",
       "      <td>1.0</td>\n",
       "      <td>3.0</td>\n",
       "      <td>4.0</td>\n",
       "      <td>2.0</td>\n",
       "      <td>1.0</td>\n",
       "      <td>2.0</td>\n",
       "      <td>2.0</td>\n",
       "      <td>2.0</td>\n",
       "      <td>1.0</td>\n",
       "      <td>1</td>\n",
       "      <td>True</td>\n",
       "      <td>True</td>\n",
       "      <td>True</td>\n",
       "    </tr>\n",
       "    <tr>\n",
       "      <th>53616</th>\n",
       "      <td>23.0</td>\n",
       "      <td>11.0</td>\n",
       "      <td>5.0</td>\n",
       "      <td>2.0</td>\n",
       "      <td>2.0</td>\n",
       "      <td>0.0</td>\n",
       "      <td>5.0</td>\n",
       "      <td>1.0</td>\n",
       "      <td>4.0</td>\n",
       "      <td>1.0</td>\n",
       "      <td>2.0</td>\n",
       "      <td>2.0</td>\n",
       "      <td>2.0</td>\n",
       "      <td>2.0</td>\n",
       "      <td>1.0</td>\n",
       "      <td>1</td>\n",
       "      <td>True</td>\n",
       "      <td>True</td>\n",
       "      <td>True</td>\n",
       "    </tr>\n",
       "    <tr>\n",
       "      <th>53617</th>\n",
       "      <td>44.0</td>\n",
       "      <td>22.0</td>\n",
       "      <td>1.0</td>\n",
       "      <td>0.0</td>\n",
       "      <td>2.0</td>\n",
       "      <td>0.0</td>\n",
       "      <td>4.0</td>\n",
       "      <td>1.0</td>\n",
       "      <td>4.0</td>\n",
       "      <td>1.0</td>\n",
       "      <td>2.0</td>\n",
       "      <td>2.0</td>\n",
       "      <td>2.0</td>\n",
       "      <td>2.0</td>\n",
       "      <td>2.0</td>\n",
       "      <td>6</td>\n",
       "      <td>True</td>\n",
       "      <td>True</td>\n",
       "      <td>True</td>\n",
       "    </tr>\n",
       "    <tr>\n",
       "      <th>53618</th>\n",
       "      <td>62.0</td>\n",
       "      <td>21.0</td>\n",
       "      <td>2.0</td>\n",
       "      <td>0.0</td>\n",
       "      <td>2.0</td>\n",
       "      <td>0.0</td>\n",
       "      <td>1.0</td>\n",
       "      <td>1.0</td>\n",
       "      <td>2.0</td>\n",
       "      <td>1.0</td>\n",
       "      <td>1.0</td>\n",
       "      <td>2.0</td>\n",
       "      <td>2.0</td>\n",
       "      <td>2.0</td>\n",
       "      <td>1.0</td>\n",
       "      <td>1</td>\n",
       "      <td>True</td>\n",
       "      <td>False</td>\n",
       "      <td>False</td>\n",
       "    </tr>\n",
       "    <tr>\n",
       "      <th>53619</th>\n",
       "      <td>75.0</td>\n",
       "      <td>19.0</td>\n",
       "      <td>1.0</td>\n",
       "      <td>0.0</td>\n",
       "      <td>1.0</td>\n",
       "      <td>0.0</td>\n",
       "      <td>1.0</td>\n",
       "      <td>1.0</td>\n",
       "      <td>4.0</td>\n",
       "      <td>1.0</td>\n",
       "      <td>1.0</td>\n",
       "      <td>1.0</td>\n",
       "      <td>2.0</td>\n",
       "      <td>2.0</td>\n",
       "      <td>1.0</td>\n",
       "      <td>1</td>\n",
       "      <td>True</td>\n",
       "      <td>False</td>\n",
       "      <td>False</td>\n",
       "    </tr>\n",
       "  </tbody>\n",
       "</table>\n",
       "<p>53620 rows × 19 columns</p>\n",
       "</div>"
      ],
      "text/plain": [
       "       AGEP  SCHL  MAR  RELP  DIS  ESP  CIT  MIG  MIL  ANC  NATIVITY  DEAR  \\\n",
       "0       3.0   1.0  5.0   2.0  2.0  2.0  1.0  1.0  0.0  1.0       1.0   2.0   \n",
       "1      30.0  19.0  4.0   2.0  2.0  0.0  5.0  1.0  4.0  1.0       2.0   2.0   \n",
       "2       5.0   2.0  5.0   2.0  2.0  7.0  1.0  1.0  0.0  1.0       1.0   2.0   \n",
       "3      92.0  19.0  2.0  16.0  1.0  0.0  1.0  1.0  4.0  1.0       1.0   1.0   \n",
       "4      58.0  15.0  1.0   1.0  2.0  0.0  1.0  1.0  4.0  1.0       1.0   2.0   \n",
       "...     ...   ...  ...   ...  ...  ...  ...  ...  ...  ...       ...   ...   \n",
       "53615  38.0  22.0  1.0   0.0  2.0  0.0  1.0  3.0  4.0  2.0       1.0   2.0   \n",
       "53616  23.0  11.0  5.0   2.0  2.0  0.0  5.0  1.0  4.0  1.0       2.0   2.0   \n",
       "53617  44.0  22.0  1.0   0.0  2.0  0.0  4.0  1.0  4.0  1.0       2.0   2.0   \n",
       "53618  62.0  21.0  2.0   0.0  2.0  0.0  1.0  1.0  2.0  1.0       1.0   2.0   \n",
       "53619  75.0  19.0  1.0   0.0  1.0  0.0  1.0  1.0  4.0  1.0       1.0   1.0   \n",
       "\n",
       "       DEYE  DREM  SEX  group  label  predicted  match  \n",
       "0       2.0   0.0  2.0      8  False      False   True  \n",
       "1       2.0   2.0  2.0      1   True       True   True  \n",
       "2       2.0   2.0  2.0      1  False      False   True  \n",
       "3       2.0   2.0  2.0      1  False      False   True  \n",
       "4       2.0   2.0  1.0      1   True       True   True  \n",
       "...     ...   ...  ...    ...    ...        ...    ...  \n",
       "53615   2.0   2.0  1.0      1   True       True   True  \n",
       "53616   2.0   2.0  1.0      1   True       True   True  \n",
       "53617   2.0   2.0  2.0      6   True       True   True  \n",
       "53618   2.0   2.0  1.0      1   True      False  False  \n",
       "53619   2.0   2.0  1.0      1   True      False  False  \n",
       "\n",
       "[53620 rows x 19 columns]"
      ]
     },
     "execution_count": 16,
     "metadata": {},
     "output_type": "execute_result"
    }
   ],
   "source": [
    "df_test = pd.DataFrame(X_test, columns = features_to_use)\n",
    "\n",
    "df_test[\"group\"] = group_test\n",
    "df_test[\"label\"] = y_test\n",
    "df_test[\"predicted\"] = y_hat\n",
    "df_test[\"match\"] = (df_test[\"predicted\"] == y_test)\n",
    "df_test"
   ]
  },
  {
   "cell_type": "code",
   "execution_count": 17,
   "id": "58a8f19d-2424-4d7b-a3da-62127d099d56",
   "metadata": {},
   "outputs": [
    {
     "name": "stdout",
     "output_type": "stream",
     "text": [
      "0.7249736181361668\n"
     ]
    }
   ],
   "source": [
    "cm = confusion_matrix(df_test[\"label\"], df_test[\"predicted\"])\n",
    "TP = cm[1,1]\n",
    "FP = cm[0,1]\n",
    "TN = cm[0,0]\n",
    "FN = cm[1,0]\n",
    "PPV = TP / (TP + FP)\n",
    "print(PPV)"
   ]
  },
  {
   "cell_type": "markdown",
   "id": "b94283ed-976e-4fd3-9707-dce008d9c5d8",
   "metadata": {},
   "source": [
    "PPV for this model is 0.7249736181361668"
   ]
  },
  {
   "cell_type": "markdown",
   "id": "c0d56cae-bfcf-4438-b9b8-7c25a3d7d438",
   "metadata": {},
   "source": [
    "##### What are the overall false negative and false positive rates (FNR and FPR) for your model?"
   ]
  },
  {
   "cell_type": "code",
   "execution_count": 18,
   "id": "640d90c4-b354-445f-95e1-c914ed4e081f",
   "metadata": {},
   "outputs": [
    {
     "name": "stdout",
     "output_type": "stream",
     "text": [
      "0.18365089121081746\n",
      "0.25870272120486054\n"
     ]
    }
   ],
   "source": [
    "FNR = FN / (FN + TP)\n",
    "FPR = FP / (FP + TN)\n",
    "print(FNR)\n",
    "print(FPR)"
   ]
  },
  {
   "cell_type": "markdown",
   "id": "a618f3c0-f02f-4a9b-9b44-ce0abc0ae377",
   "metadata": {},
   "source": [
    "False positive rate: 0.25870272120486054\n",
    "\n",
    "False negative rate: 0.18365089121081746"
   ]
  },
  {
   "cell_type": "markdown",
   "id": "c5304a5a-db58-4a68-a68e-b9f044bc970e",
   "metadata": {},
   "source": [
    "#### By-Group Measures"
   ]
  },
  {
   "cell_type": "markdown",
   "id": "80da5cc8-f0e3-4ced-9277-1138dd2ca452",
   "metadata": {},
   "source": [
    "##### What is the accuracy of your model on each subgroup?"
   ]
  },
  {
   "cell_type": "code",
   "execution_count": 19,
   "id": "084df986-14d4-442b-a5d4-2181c57ecc44",
   "metadata": {},
   "outputs": [
    {
     "name": "stdout",
     "output_type": "stream",
     "text": [
      "group\n",
      "1    0.775486\n",
      "2    0.785095\n",
      "3    0.748768\n",
      "4    0.666667\n",
      "5    0.724771\n",
      "6    0.750307\n",
      "7    0.777778\n",
      "8    0.755204\n",
      "9    0.828311\n",
      "Name: match, dtype: float64\n"
     ]
    }
   ],
   "source": [
    "# add a column of predicted result of each entry\n",
    "# add another column of that indicates whether the predicted results matches each entry\n",
    "\n",
    "accuracy_by_subgroups = df_test.groupby(['group'])['match'].mean()\n",
    "print(accuracy_by_subgroups)"
   ]
  },
  {
   "cell_type": "markdown",
   "id": "70aeb4bb-f069-4e79-89fd-fac81a979f7c",
   "metadata": {},
   "source": [
    "##### What is the PPV of your model on each subgroup?"
   ]
  },
  {
   "cell_type": "code",
   "execution_count": 20,
   "id": "6bf0b5d1-452c-4771-9fa9-cac279a0e0ab",
   "metadata": {},
   "outputs": [
    {
     "data": {
      "text/html": [
       "<div>\n",
       "<style scoped>\n",
       "    .dataframe tbody tr th:only-of-type {\n",
       "        vertical-align: middle;\n",
       "    }\n",
       "\n",
       "    .dataframe tbody tr th {\n",
       "        vertical-align: top;\n",
       "    }\n",
       "\n",
       "    .dataframe thead th {\n",
       "        text-align: right;\n",
       "    }\n",
       "</style>\n",
       "<table border=\"1\" class=\"dataframe\">\n",
       "  <thead>\n",
       "    <tr style=\"text-align: right;\">\n",
       "      <th></th>\n",
       "      <th>AGEP</th>\n",
       "      <th>SCHL</th>\n",
       "      <th>MAR</th>\n",
       "      <th>RELP</th>\n",
       "      <th>DIS</th>\n",
       "      <th>ESP</th>\n",
       "      <th>CIT</th>\n",
       "      <th>MIG</th>\n",
       "      <th>MIL</th>\n",
       "      <th>ANC</th>\n",
       "      <th>...</th>\n",
       "      <th>DREM</th>\n",
       "      <th>SEX</th>\n",
       "      <th>group</th>\n",
       "      <th>label</th>\n",
       "      <th>predicted</th>\n",
       "      <th>match</th>\n",
       "      <th>TP</th>\n",
       "      <th>FP</th>\n",
       "      <th>TN</th>\n",
       "      <th>FN</th>\n",
       "    </tr>\n",
       "  </thead>\n",
       "  <tbody>\n",
       "    <tr>\n",
       "      <th>0</th>\n",
       "      <td>3.0</td>\n",
       "      <td>1.0</td>\n",
       "      <td>5.0</td>\n",
       "      <td>2.0</td>\n",
       "      <td>2.0</td>\n",
       "      <td>2.0</td>\n",
       "      <td>1.0</td>\n",
       "      <td>1.0</td>\n",
       "      <td>0.0</td>\n",
       "      <td>1.0</td>\n",
       "      <td>...</td>\n",
       "      <td>0.0</td>\n",
       "      <td>2.0</td>\n",
       "      <td>8</td>\n",
       "      <td>False</td>\n",
       "      <td>False</td>\n",
       "      <td>True</td>\n",
       "      <td>0</td>\n",
       "      <td>0</td>\n",
       "      <td>1</td>\n",
       "      <td>0</td>\n",
       "    </tr>\n",
       "    <tr>\n",
       "      <th>1</th>\n",
       "      <td>30.0</td>\n",
       "      <td>19.0</td>\n",
       "      <td>4.0</td>\n",
       "      <td>2.0</td>\n",
       "      <td>2.0</td>\n",
       "      <td>0.0</td>\n",
       "      <td>5.0</td>\n",
       "      <td>1.0</td>\n",
       "      <td>4.0</td>\n",
       "      <td>1.0</td>\n",
       "      <td>...</td>\n",
       "      <td>2.0</td>\n",
       "      <td>2.0</td>\n",
       "      <td>1</td>\n",
       "      <td>True</td>\n",
       "      <td>True</td>\n",
       "      <td>True</td>\n",
       "      <td>1</td>\n",
       "      <td>0</td>\n",
       "      <td>0</td>\n",
       "      <td>0</td>\n",
       "    </tr>\n",
       "    <tr>\n",
       "      <th>2</th>\n",
       "      <td>5.0</td>\n",
       "      <td>2.0</td>\n",
       "      <td>5.0</td>\n",
       "      <td>2.0</td>\n",
       "      <td>2.0</td>\n",
       "      <td>7.0</td>\n",
       "      <td>1.0</td>\n",
       "      <td>1.0</td>\n",
       "      <td>0.0</td>\n",
       "      <td>1.0</td>\n",
       "      <td>...</td>\n",
       "      <td>2.0</td>\n",
       "      <td>2.0</td>\n",
       "      <td>1</td>\n",
       "      <td>False</td>\n",
       "      <td>False</td>\n",
       "      <td>True</td>\n",
       "      <td>0</td>\n",
       "      <td>0</td>\n",
       "      <td>1</td>\n",
       "      <td>0</td>\n",
       "    </tr>\n",
       "    <tr>\n",
       "      <th>3</th>\n",
       "      <td>92.0</td>\n",
       "      <td>19.0</td>\n",
       "      <td>2.0</td>\n",
       "      <td>16.0</td>\n",
       "      <td>1.0</td>\n",
       "      <td>0.0</td>\n",
       "      <td>1.0</td>\n",
       "      <td>1.0</td>\n",
       "      <td>4.0</td>\n",
       "      <td>1.0</td>\n",
       "      <td>...</td>\n",
       "      <td>2.0</td>\n",
       "      <td>2.0</td>\n",
       "      <td>1</td>\n",
       "      <td>False</td>\n",
       "      <td>False</td>\n",
       "      <td>True</td>\n",
       "      <td>0</td>\n",
       "      <td>0</td>\n",
       "      <td>1</td>\n",
       "      <td>0</td>\n",
       "    </tr>\n",
       "    <tr>\n",
       "      <th>4</th>\n",
       "      <td>58.0</td>\n",
       "      <td>15.0</td>\n",
       "      <td>1.0</td>\n",
       "      <td>1.0</td>\n",
       "      <td>2.0</td>\n",
       "      <td>0.0</td>\n",
       "      <td>1.0</td>\n",
       "      <td>1.0</td>\n",
       "      <td>4.0</td>\n",
       "      <td>1.0</td>\n",
       "      <td>...</td>\n",
       "      <td>2.0</td>\n",
       "      <td>1.0</td>\n",
       "      <td>1</td>\n",
       "      <td>True</td>\n",
       "      <td>True</td>\n",
       "      <td>True</td>\n",
       "      <td>1</td>\n",
       "      <td>0</td>\n",
       "      <td>0</td>\n",
       "      <td>0</td>\n",
       "    </tr>\n",
       "    <tr>\n",
       "      <th>...</th>\n",
       "      <td>...</td>\n",
       "      <td>...</td>\n",
       "      <td>...</td>\n",
       "      <td>...</td>\n",
       "      <td>...</td>\n",
       "      <td>...</td>\n",
       "      <td>...</td>\n",
       "      <td>...</td>\n",
       "      <td>...</td>\n",
       "      <td>...</td>\n",
       "      <td>...</td>\n",
       "      <td>...</td>\n",
       "      <td>...</td>\n",
       "      <td>...</td>\n",
       "      <td>...</td>\n",
       "      <td>...</td>\n",
       "      <td>...</td>\n",
       "      <td>...</td>\n",
       "      <td>...</td>\n",
       "      <td>...</td>\n",
       "      <td>...</td>\n",
       "    </tr>\n",
       "    <tr>\n",
       "      <th>53615</th>\n",
       "      <td>38.0</td>\n",
       "      <td>22.0</td>\n",
       "      <td>1.0</td>\n",
       "      <td>0.0</td>\n",
       "      <td>2.0</td>\n",
       "      <td>0.0</td>\n",
       "      <td>1.0</td>\n",
       "      <td>3.0</td>\n",
       "      <td>4.0</td>\n",
       "      <td>2.0</td>\n",
       "      <td>...</td>\n",
       "      <td>2.0</td>\n",
       "      <td>1.0</td>\n",
       "      <td>1</td>\n",
       "      <td>True</td>\n",
       "      <td>True</td>\n",
       "      <td>True</td>\n",
       "      <td>1</td>\n",
       "      <td>0</td>\n",
       "      <td>0</td>\n",
       "      <td>0</td>\n",
       "    </tr>\n",
       "    <tr>\n",
       "      <th>53616</th>\n",
       "      <td>23.0</td>\n",
       "      <td>11.0</td>\n",
       "      <td>5.0</td>\n",
       "      <td>2.0</td>\n",
       "      <td>2.0</td>\n",
       "      <td>0.0</td>\n",
       "      <td>5.0</td>\n",
       "      <td>1.0</td>\n",
       "      <td>4.0</td>\n",
       "      <td>1.0</td>\n",
       "      <td>...</td>\n",
       "      <td>2.0</td>\n",
       "      <td>1.0</td>\n",
       "      <td>1</td>\n",
       "      <td>True</td>\n",
       "      <td>True</td>\n",
       "      <td>True</td>\n",
       "      <td>1</td>\n",
       "      <td>0</td>\n",
       "      <td>0</td>\n",
       "      <td>0</td>\n",
       "    </tr>\n",
       "    <tr>\n",
       "      <th>53617</th>\n",
       "      <td>44.0</td>\n",
       "      <td>22.0</td>\n",
       "      <td>1.0</td>\n",
       "      <td>0.0</td>\n",
       "      <td>2.0</td>\n",
       "      <td>0.0</td>\n",
       "      <td>4.0</td>\n",
       "      <td>1.0</td>\n",
       "      <td>4.0</td>\n",
       "      <td>1.0</td>\n",
       "      <td>...</td>\n",
       "      <td>2.0</td>\n",
       "      <td>2.0</td>\n",
       "      <td>6</td>\n",
       "      <td>True</td>\n",
       "      <td>True</td>\n",
       "      <td>True</td>\n",
       "      <td>1</td>\n",
       "      <td>0</td>\n",
       "      <td>0</td>\n",
       "      <td>0</td>\n",
       "    </tr>\n",
       "    <tr>\n",
       "      <th>53618</th>\n",
       "      <td>62.0</td>\n",
       "      <td>21.0</td>\n",
       "      <td>2.0</td>\n",
       "      <td>0.0</td>\n",
       "      <td>2.0</td>\n",
       "      <td>0.0</td>\n",
       "      <td>1.0</td>\n",
       "      <td>1.0</td>\n",
       "      <td>2.0</td>\n",
       "      <td>1.0</td>\n",
       "      <td>...</td>\n",
       "      <td>2.0</td>\n",
       "      <td>1.0</td>\n",
       "      <td>1</td>\n",
       "      <td>True</td>\n",
       "      <td>False</td>\n",
       "      <td>False</td>\n",
       "      <td>0</td>\n",
       "      <td>0</td>\n",
       "      <td>0</td>\n",
       "      <td>1</td>\n",
       "    </tr>\n",
       "    <tr>\n",
       "      <th>53619</th>\n",
       "      <td>75.0</td>\n",
       "      <td>19.0</td>\n",
       "      <td>1.0</td>\n",
       "      <td>0.0</td>\n",
       "      <td>1.0</td>\n",
       "      <td>0.0</td>\n",
       "      <td>1.0</td>\n",
       "      <td>1.0</td>\n",
       "      <td>4.0</td>\n",
       "      <td>1.0</td>\n",
       "      <td>...</td>\n",
       "      <td>2.0</td>\n",
       "      <td>1.0</td>\n",
       "      <td>1</td>\n",
       "      <td>True</td>\n",
       "      <td>False</td>\n",
       "      <td>False</td>\n",
       "      <td>0</td>\n",
       "      <td>0</td>\n",
       "      <td>0</td>\n",
       "      <td>1</td>\n",
       "    </tr>\n",
       "  </tbody>\n",
       "</table>\n",
       "<p>53620 rows × 23 columns</p>\n",
       "</div>"
      ],
      "text/plain": [
       "       AGEP  SCHL  MAR  RELP  DIS  ESP  CIT  MIG  MIL  ANC  ...  DREM  SEX  \\\n",
       "0       3.0   1.0  5.0   2.0  2.0  2.0  1.0  1.0  0.0  1.0  ...   0.0  2.0   \n",
       "1      30.0  19.0  4.0   2.0  2.0  0.0  5.0  1.0  4.0  1.0  ...   2.0  2.0   \n",
       "2       5.0   2.0  5.0   2.0  2.0  7.0  1.0  1.0  0.0  1.0  ...   2.0  2.0   \n",
       "3      92.0  19.0  2.0  16.0  1.0  0.0  1.0  1.0  4.0  1.0  ...   2.0  2.0   \n",
       "4      58.0  15.0  1.0   1.0  2.0  0.0  1.0  1.0  4.0  1.0  ...   2.0  1.0   \n",
       "...     ...   ...  ...   ...  ...  ...  ...  ...  ...  ...  ...   ...  ...   \n",
       "53615  38.0  22.0  1.0   0.0  2.0  0.0  1.0  3.0  4.0  2.0  ...   2.0  1.0   \n",
       "53616  23.0  11.0  5.0   2.0  2.0  0.0  5.0  1.0  4.0  1.0  ...   2.0  1.0   \n",
       "53617  44.0  22.0  1.0   0.0  2.0  0.0  4.0  1.0  4.0  1.0  ...   2.0  2.0   \n",
       "53618  62.0  21.0  2.0   0.0  2.0  0.0  1.0  1.0  2.0  1.0  ...   2.0  1.0   \n",
       "53619  75.0  19.0  1.0   0.0  1.0  0.0  1.0  1.0  4.0  1.0  ...   2.0  1.0   \n",
       "\n",
       "       group  label  predicted  match  TP  FP  TN  FN  \n",
       "0          8  False      False   True   0   0   1   0  \n",
       "1          1   True       True   True   1   0   0   0  \n",
       "2          1  False      False   True   0   0   1   0  \n",
       "3          1  False      False   True   0   0   1   0  \n",
       "4          1   True       True   True   1   0   0   0  \n",
       "...      ...    ...        ...    ...  ..  ..  ..  ..  \n",
       "53615      1   True       True   True   1   0   0   0  \n",
       "53616      1   True       True   True   1   0   0   0  \n",
       "53617      6   True       True   True   1   0   0   0  \n",
       "53618      1   True      False  False   0   0   0   1  \n",
       "53619      1   True      False  False   0   0   0   1  \n",
       "\n",
       "[53620 rows x 23 columns]"
      ]
     },
     "execution_count": 20,
     "metadata": {},
     "output_type": "execute_result"
    }
   ],
   "source": [
    "def TP(df_test):\n",
    "    if (df_test[\"predicted\"] == 1) and (df_test[\"label\"] == 1):\n",
    "        return 1\n",
    "    else:\n",
    "        return 0\n",
    "    \n",
    "def FP(df_test):\n",
    "    if (df_test[\"predicted\"] == 1) and (df_test[\"label\"] == 0):\n",
    "        return 1\n",
    "    else:\n",
    "        return 0\n",
    "\n",
    "def TN(df_test):\n",
    "    if (df_test[\"predicted\"] == 0) and (df_test[\"label\"] == 0):\n",
    "        return 1\n",
    "    else:\n",
    "        return 0\n",
    "    \n",
    "def FN(df_test):\n",
    "    if (df_test[\"predicted\"] == 0) and (df_test[\"label\"] == 1):\n",
    "        return 1\n",
    "    else:\n",
    "        return 0\n",
    "\n",
    "\n",
    "df_test['TP'] = df_test.apply(TP, axis=1)\n",
    "df_test['FP'] = df_test.apply(FP, axis=1)\n",
    "df_test['TN'] = df_test.apply(TN, axis=1)\n",
    "df_test['FN'] = df_test.apply(FN, axis=1)\n",
    "df_test"
   ]
  },
  {
   "cell_type": "code",
   "execution_count": 21,
   "id": "60c8537c-0b62-498e-ae12-1bcde61b1bca",
   "metadata": {},
   "outputs": [
    {
     "name": "stdout",
     "output_type": "stream",
     "text": [
      "group\n",
      "1    0.726423\n",
      "2    0.729860\n",
      "3    0.697917\n",
      "4    0.666667\n",
      "5    0.722222\n",
      "6    0.697287\n",
      "7    0.769231\n",
      "8    0.723242\n",
      "9    0.737201\n",
      "Name: PPV, dtype: float64\n"
     ]
    }
   ],
   "source": [
    "df_test[\"PPV\"] = df_test[\"TP\"] / (df_test[\"TP\"] + df_test[\"FP\"])\n",
    "PPV_by_subgroups = df_test.groupby([\"group\"])[\"PPV\"].mean()\n",
    "print(PPV_by_subgroups)"
   ]
  },
  {
   "cell_type": "markdown",
   "id": "6a94e291-db23-4227-b6fb-8a8e6301da2e",
   "metadata": {},
   "source": [
    "##### What are the FNR and FPR on each subgroup?"
   ]
  },
  {
   "cell_type": "code",
   "execution_count": 22,
   "id": "2a4b1ad3-c907-404f-98d2-bd50b69ec0fd",
   "metadata": {},
   "outputs": [
    {
     "name": "stdout",
     "output_type": "stream",
     "text": [
      "group\n",
      "1    0.182327\n",
      "2    0.221028\n",
      "3    0.247191\n",
      "4    0.333333\n",
      "5    0.277778\n",
      "6    0.095200\n",
      "7    0.230769\n",
      "8    0.223954\n",
      "9    0.173996\n",
      "Name: FNR, dtype: float64\n"
     ]
    }
   ],
   "source": [
    "df_test[\"FNR\"] = df_test[\"FN\"] / (df_test[\"FN\"] + df_test[\"TP\"])\n",
    "FNR_by_subgroups = df_test.groupby([\"group\"])[\"FNR\"].mean()\n",
    "print(FNR_by_subgroups)"
   ]
  },
  {
   "cell_type": "code",
   "execution_count": 23,
   "id": "c0eb6fc0-067a-4da1-833b-b24f7f3b95ac",
   "metadata": {},
   "outputs": [
    {
     "name": "stdout",
     "output_type": "stream",
     "text": [
      "group\n",
      "1    0.260155\n",
      "2    0.210437\n",
      "3    0.254386\n",
      "4    0.333333\n",
      "5    0.272727\n",
      "6    0.411567\n",
      "7    0.214286\n",
      "8    0.263273\n",
      "9    0.170354\n",
      "Name: FPR, dtype: float64\n"
     ]
    }
   ],
   "source": [
    "df_test[\"FPR\"] = df_test[\"FP\"] / (df_test[\"FP\"] + df_test[\"TN\"])\n",
    "FPR_by_subgroups = df_test.groupby([\"group\"])[\"FPR\"].mean()\n",
    "print(FPR_by_subgroups)"
   ]
  },
  {
   "cell_type": "markdown",
   "id": "762ee6f3-7bb7-4801-b219-5672fd4c854b",
   "metadata": {},
   "source": [
    "#### Bias Measures\n",
    "\n",
    "##### Is your model approximately calibrated?\n",
    "\n",
    "From the PPV by subgroups data, we can see that the PPV by subgroups are generally around 0.70, ranging from 0.666 to 0.769. We can say that it seems that the model is approximately calibrated, as the PPV of the model across groups are generally within a certain range, and difference is not very significant. But still, it is not perfectly calibrated since PPV for certain groups do have some differences."
   ]
  },
  {
   "cell_type": "markdown",
   "id": "a8acb382-3d97-4255-b1c9-15934e2f5790",
   "metadata": {},
   "source": [
    "##### Does your model satisfy approximate error rate balance?\n",
    "\n",
    "My model does not satisfy approximate error rate balance. To see if the model satisfy approximate error rate balance, we can measure if the FPR and FNR are equal across groups. From the FPR and FNR we calculated, it seems that for certain groups, there is big differences between the FPR and FNR, such as for group 1, FPR is 0.26, and FNR is 0.18, and for group 6, FPR is 0.41, while FNR is only 0.095, indicating that the model does not satisfy approximate error rate balance."
   ]
  },
  {
   "cell_type": "markdown",
   "id": "70b98c49-6c82-459d-aac6-3986b2a52a24",
   "metadata": {},
   "source": [
    "##### Does your model satisfy statistical parity?"
   ]
  },
  {
   "cell_type": "code",
   "execution_count": 24,
   "id": "2b89dbc2-d38d-4d0d-949e-1c8c67c36db4",
   "metadata": {},
   "outputs": [
    {
     "name": "stdout",
     "output_type": "stream",
     "text": [
      "group\n",
      "1    0.515465\n",
      "2    0.450315\n",
      "3    0.472906\n",
      "4    0.500000\n",
      "5    0.495413\n",
      "6    0.663938\n",
      "7    0.481481\n",
      "8    0.504241\n",
      "9    0.410652\n",
      "Name: predicted, dtype: float64\n"
     ]
    }
   ],
   "source": [
    "positive_by_subgroups = df_test.groupby(['group'])['predicted'].mean()\n",
    "print(positive_by_subgroups)"
   ]
  },
  {
   "cell_type": "markdown",
   "id": "7cf77964-4812-4dd0-ae5b-00c01774bb2b",
   "metadata": {},
   "source": [
    "My model does not satisfy statistical parity. From the data above, we can see that there is significant difference in the rate of being predicted as positive among different groups, therefore it indicates that the proportion of individuals being predicted as positive is different across groups, so the model does not satisfy statistical parity."
   ]
  },
  {
   "cell_type": "markdown",
   "id": "e8d0c28b-b860-4cd2-b313-684ce2a49452",
   "metadata": {},
   "source": [
    "### Concluding Discussion\n",
    "\n",
    "#### What groups of people could stand to benefit from a system that is able to predict the label you predicted, such as income or employment status? For example, what kinds of companies might want to buy your model for commercial use?\n",
    "\n",
    "Companies who want to make the employment fairer across different races might want to buy my model, since it reflects the disparity in employment status among different races, therefore if they want to make the employment fairer for certain groups, they can use the data to find which group should be given extra consideration in the process of recruiting. Also, government that seek to improve racial equality can use this data to make policies."
   ]
  },
  {
   "cell_type": "markdown",
   "id": "d2031cf3-d473-4ca4-a57c-6b6c1cbfd6fe",
   "metadata": {},
   "source": [
    "#### Based on your bias audit, what could be the impact of deploying your model for large-scale prediction in commercial or governmental settings?\n",
    "\n",
    "- The model may have lower accuracy or higher FPR or FNR for certain subgroups, which could result in unfair or discriminatory outcomes. If the model is used to make decisions about employment, this could lead to discrimination against certain groups.\n",
    "\n",
    "- The model does not necessarily satisfies statistical parity, meaning that certain groups may be systematically advantaged or disadvantaged by the model's predictions. This could result in legal or ethical issues if the model is used for decision-making in sensitive domains.\n",
    "\n",
    "- If the model is found to be biased or unfair, this could result in reputational harm for the organization or government agency that deployed it. This could lead to negative impacts such as loss of trust and negative media coverage."
   ]
  },
  {
   "cell_type": "markdown",
   "id": "1a961e29-bd80-4acb-9101-14d458fe7b48",
   "metadata": {},
   "source": [
    "#### Based on your bias audit, do you feel that your model displays problematic bias? What kind (calibration, error rate, etc)?\n",
    "\n",
    "I do feel that my model displays problematic bias. My model does not satisfy error rate balance and statistical parity, while the calibration is not very satisfactory as well. There exist significant disparities between certain rates (>10%), meaning that certain groups are advantaged or disdvantaged in the process.\n"
   ]
  },
  {
   "cell_type": "markdown",
   "id": "50b74e3f-26b5-4ff8-adfa-58d4c3a8eb95",
   "metadata": {},
   "source": [
    "#### Beyond bias, are there other potential problems associated with deploying your model that make you uncomfortable? How would you propose addressing some of these problems?"
   ]
  },
  {
   "cell_type": "code",
   "execution_count": 25,
   "id": "f74e793a-50ed-4316-88c0-6bfe1c13a382",
   "metadata": {},
   "outputs": [
    {
     "name": "stdout",
     "output_type": "stream",
     "text": [
      "         AGEP    SCHL     MAR    RELP     DIS     ESP     CIT     MIG     MIL  \\\n",
      "group                                                                           \n",
      "1      165969  165969  165969  165969  165969  165969  165969  165969  165969   \n",
      "2       20614   20614   20614   20614   20614   20614   20614   20614   20614   \n",
      "3         836     836     836     836     836     836     836     836     836   \n",
      "4          14      14      14      14      14      14      14      14      14   \n",
      "5         401     401     401     401     401     401     401     401     401   \n",
      "6       10141   10141   10141   10141   10141   10141   10141   10141   10141   \n",
      "7         158     158     158     158     158     158     158     158     158   \n",
      "8       10544   10544   10544   10544   10544   10544   10544   10544   10544   \n",
      "9        5803    5803    5803    5803    5803    5803    5803    5803    5803   \n",
      "\n",
      "          ANC  NATIVITY    DEAR    DEYE    DREM     SEX   label  \n",
      "group                                                            \n",
      "1      165969    165969  165969  165969  165969  165969  165969  \n",
      "2       20614     20614   20614   20614   20614   20614   20614  \n",
      "3         836       836     836     836     836     836     836  \n",
      "4          14        14      14      14      14      14      14  \n",
      "5         401       401     401     401     401     401     401  \n",
      "6       10141     10141   10141   10141   10141   10141   10141  \n",
      "7         158       158     158     158     158     158     158  \n",
      "8       10544     10544   10544   10544   10544   10544   10544  \n",
      "9        5803      5803    5803    5803    5803    5803    5803  \n"
     ]
    }
   ],
   "source": [
    "count_by_group = df.groupby(['group']).count()\n",
    "print(count_by_group)"
   ]
  },
  {
   "cell_type": "markdown",
   "id": "3b5ebf0a-5954-4bfe-adce-1b25df121494",
   "metadata": {},
   "source": [
    "From this data, we can see that data for certain races is very high (as high as 165959), while data for certain racial groups is as low as 14. This could create problem since data for certain racial group is not enough, which may lead to biased and inaccurate predictions."
   ]
  }
 ],
 "metadata": {
  "kernelspec": {
   "display_name": "Python [conda env:ml-0451] *",
   "language": "python",
   "name": "conda-env-ml-0451-py"
  },
  "language_info": {
   "codemirror_mode": {
    "name": "ipython",
    "version": 3
   },
   "file_extension": ".py",
   "mimetype": "text/x-python",
   "name": "python",
   "nbconvert_exporter": "python",
   "pygments_lexer": "ipython3",
   "version": "3.9.16"
  }
 },
 "nbformat": 4,
 "nbformat_minor": 5
}
